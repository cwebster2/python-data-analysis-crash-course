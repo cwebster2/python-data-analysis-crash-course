{
 "cells": [
  {
   "cell_type": "markdown",
   "metadata": {},
   "source": [
    "### Working with Financial Data\n",
    "\n",
    "Publicly traded companies are classified into one of 11 industry sectors, called GICS (Global Industry Classification Standard). Investors use these classes to design and construct portfolios, compare companies, evaluate industries, and isolate regional from global trends.\n",
    "\n",
    "There are 11 GICS sectors\n",
    "\n",
    "* Communication services\n",
    "* Consumer discretionary\n",
    "* Consumer staples\n",
    "* Energy\n",
    "* Financials\n",
    "* Health care\n",
    "* Industrials\n",
    "* Information technology\n",
    "* Materials\n",
    "* Real estate\n",
    "* Utilities\n",
    "\n",
    "\n",
    "In this notebook we'll work with financial data, grouped by sector, to analyze different trends in companies and sectors listed on the S&P 500. \n",
    "\n",
    "\n",
    "Begin by loading the GICS sector mappings. They've been provided to you in a file called `gics.csv`\n"
   ]
  },
  {
   "cell_type": "code",
   "execution_count": 1,
   "metadata": {},
   "outputs": [],
   "source": [
    "import pandas as pd\n",
    "import matplotlib.pyplot as plt\n",
    "import seaborn as sns\n",
    "sns.set()"
   ]
  },
  {
   "cell_type": "code",
   "execution_count": 13,
   "metadata": {},
   "outputs": [
    {
     "name": "stdout",
     "output_type": "stream",
     "text": [
      "    Code                    Name\n",
      "0     50  Communication services\n",
      "1     25  Consumer discretionary\n",
      "2     30        Consumer staples\n",
      "3     10                  Energy\n",
      "4     40              Financials\n",
      "5     35             Health care\n",
      "6     20             Industrials\n",
      "7     45  Information technology\n",
      "8     15               Materials\n",
      "9     60             Real estate\n",
      "10    55               Utilities\n"
     ]
    }
   ],
   "source": [
    "gics = pd.read_csv(\"gics.csv\");\n",
    "#gics.set_index(\"Code\", drop=True, inplace=True)\n",
    "print(gics)"
   ]
  },
  {
   "cell_type": "markdown",
   "metadata": {},
   "source": [
    "Load the S&P 500 sector mappings and take a look at the data. The file is called `sp500-sector.csv`"
   ]
  },
  {
   "cell_type": "code",
   "execution_count": 3,
   "metadata": {},
   "outputs": [
    {
     "name": "stdout",
     "output_type": "stream",
     "text": [
      "  Symbol                 Name                  Sector\n",
      "0    MMM           3M Company             Industrials\n",
      "1    AOS      A.O. Smith Corp             Industrials\n",
      "2    ABT  Abbott Laboratories             Health Care\n",
      "3   ABBV          AbbVie Inc.             Health Care\n",
      "4    ACN        Accenture plc  Information Technology\n"
     ]
    }
   ],
   "source": [
    "sp500 = pd.read_csv(\"sp500-sector.csv\")\n",
    "#sp500.set_index(\"Symbol\", drop=True, inplace=True)\n",
    "print(sp500.head())"
   ]
  },
  {
   "cell_type": "markdown",
   "metadata": {},
   "source": [
    "Create a dataframe that has the S&P 500 stock symbols with the appropriate sector number. For example, `3M`, symbol `MMM` is in `industrials` which corresponds to sector 20."
   ]
  },
  {
   "cell_type": "code",
   "execution_count": 14,
   "metadata": {},
   "outputs": [
    {
     "name": "stdout",
     "output_type": "stream",
     "text": [
      "  Symbol                 Name                  Sector                Sector_l  \\\n",
      "0    MMM           3M Company             Industrials             industrials   \n",
      "1    AOS      A.O. Smith Corp             Industrials             industrials   \n",
      "2    ABT  Abbott Laboratories             Health Care             health care   \n",
      "3   ABBV          AbbVie Inc.             Health Care             health care   \n",
      "4    ACN        Accenture plc  Information Technology  information technology   \n",
      "\n",
      "   Code               Name_gics                  Name_l  \n",
      "0  20.0             Industrials             industrials  \n",
      "1  20.0             Industrials             industrials  \n",
      "2  35.0             Health care             health care  \n",
      "3  35.0             Health care             health care  \n",
      "4  45.0  Information technology  information technology  \n"
     ]
    }
   ],
   "source": [
    "gics['Name_l'] = gics['Name'].str.lower()\n",
    "sp500['Sector_l'] = sp500['Sector'].str.lower()\n",
    "sp500_with_gics = sp500.merge(gics, how=\"left\", left_on=\"Sector_l\", right_on=\"Name_l\", suffixes=(\"\",\"_gics\"))\n",
    "print(sp500_with_gics.head())"
   ]
  },
  {
   "cell_type": "markdown",
   "metadata": {},
   "source": [
    "Load the file `sp500-5yr.csv` into a dataframe. This file contains 5 years worth of historical prices for securities listed on the S&P 500."
   ]
  },
  {
   "cell_type": "code",
   "execution_count": 17,
   "metadata": {},
   "outputs": [
    {
     "name": "stdout",
     "output_type": "stream",
     "text": [
      "         date   open   high    low  close    volume symbol\n",
      "0  2013-02-08  15.07  15.12  14.63  14.75   8407500    AAL\n",
      "1  2013-02-11  14.89  15.01  14.26  14.46   8882000    AAL\n",
      "2  2013-02-12  14.45  14.51  14.10  14.27   8126000    AAL\n",
      "3  2013-02-13  14.30  14.94  14.25  14.66  10259500    AAL\n",
      "4  2013-02-14  14.94  14.96  13.16  13.99  31879900    AAL\n",
      "2013-02-08\n",
      "2018-02-07\n"
     ]
    }
   ],
   "source": [
    "sp5yr = pd.read_csv(\"sp500-5yr.csv\")\n",
    "print(sp5yr.head())\n",
    "print(sp5yr[\"date\"].min())\n",
    "print(sp5yr[\"date\"].max())"
   ]
  },
  {
   "cell_type": "markdown",
   "metadata": {},
   "source": [
    "Determine which sectors had the best performance for the past year, past three years and past five years. Note the start and end dates on the dataset."
   ]
  },
  {
   "cell_type": "code",
   "execution_count": 19,
   "metadata": {},
   "outputs": [
    {
     "name": "stdout",
     "output_type": "stream",
     "text": [
      "date                             5year    3year   1year\n",
      "Sector                 Symbol                          \n",
      "Consumer Discretionary AAP       31.03   -50.81  -52.80\n",
      "                       AMZN    1154.83  1046.22  597.07\n",
      "                       APTV        NaN      NaN     NaN\n",
      "                       AZO      342.44   115.28  -12.73\n",
      "                       BBY       55.97    34.19   27.39\n"
     ]
    }
   ],
   "source": [
    "ds = sp500_with_gics.merge(sp5yr, how=\"left\", left_on=\"Symbol\", right_on=\"symbol\")\n",
    "ds = ds[[\"Symbol\", \"Sector\", \"date\", \"close\"]]\n",
    "date_5yr=\"2013-02-08\"\n",
    "date_3yr=\"2015-02-09\" # Market not open on 8th.\n",
    "date_1yr=\"2017-02-08\"\n",
    "date_now=\"2018-02-07\"\n",
    "\n",
    "ds_perf = ds.loc[(ds.date == date_5yr) | (ds.date == date_3yr) | (ds.date == date_1yr) | (ds.date == date_now)]\n",
    "ds_perf.set_index([\"Sector\", \"Symbol\", \"date\"], inplace=True)\n",
    "ds_perf = ds_perf.unstack()\n",
    "ds_perf.columns = ds_perf.columns.droplevel()\n",
    "ds_perf[\"5year\"] = ds_perf[date_now] - ds_perf[date_5yr]\n",
    "ds_perf[\"3year\"] = ds_perf[date_now] - ds_perf[date_3yr]\n",
    "ds_perf[\"1year\"] = ds_perf[date_now] - ds_perf[date_1yr]\n",
    "ds_perf = ds_perf.drop([date_now, date_5yr, date_3yr, date_1yr], axis=1)\n",
    "print(ds_perf.head())"
   ]
  },
  {
   "cell_type": "code",
   "execution_count": 23,
   "metadata": {},
   "outputs": [
    {
     "name": "stdout",
     "output_type": "stream",
     "text": [
      "                                5year      3year      1year\n",
      "Sector                                                     \n",
      "Consumer Discretionary      52.769126  22.789292  14.451889\n",
      "Consumer Staples            32.795678  12.888891   3.283824\n",
      "Energy                      -0.740500  -5.649833  -1.663333\n",
      "Financials                  47.781878  26.699076  16.586194\n",
      "Health Care                 77.442905  33.219466  25.477198\n",
      "Industrials                 63.317706  36.007080  21.921194\n",
      "Information Technology      68.341203  54.345617  28.559130\n",
      "Materials                   44.954261  25.821000  15.427083\n",
      "Real Estate                 22.561290   3.213226  -3.119355\n",
      "Telecommunication Services  -5.326667  -6.133333  -3.003333\n",
      "Utilities                   13.688571   2.003571  -1.644286\n"
     ]
    },
    {
     "data": {
      "image/png": "[encoded data removed]",
      "text/plain": [
       "<Figure size 431.35x360 with 1 Axes>"
      ]
     },
     "metadata": {
      "needs_background": "light"
     },
     "output_type": "display_data"
    }
   ],
   "source": [
    "perf = ds_perf.groupby(\"Sector\").agg({\n",
    "    \"5year\": \"mean\",\n",
    "    \"3year\": \"mean\",\n",
    "    \"1year\": \"mean\"\n",
    "})\n",
    "print(perf)\n",
    "\n",
    "perf = perf.reset_index()\n",
    "perf = pd.melt(perf, id_vars=\"Sector\", var_name=\"Range\", value_name=\"Performance\")\n",
    "g=sns.catplot(x=\"Sector\", y=\"Performance\", hue=\"Range\", data=perf, kind=\"bar\")\n",
    "plt.xticks(rotation=90)\n",
    "plt.show()"
   ]
  },
  {
   "cell_type": "markdown",
   "metadata": {},
   "source": [
    "For each sector, determine the top performer and the bottom performer for the 1 year, 3 year, and 5 year windows."
   ]
  },
  {
   "cell_type": "code",
   "execution_count": 24,
   "metadata": {},
   "outputs": [
    {
     "name": "stdout",
     "output_type": "stream",
     "text": [
      "Year                                             1                     3  \\\n",
      "Sector                                                                     \n",
      "Consumer Discretionary             Amazon.com Inc.       Amazon.com Inc.   \n",
      "Consumer Staples              Constellation Brands  Constellation Brands   \n",
      "Energy                               Valero Energy      Concho Resources   \n",
      "Financials                               BlackRock             BlackRock   \n",
      "Health Care                         Mettler Toledo        Mettler Toledo   \n",
      "Industrials                         Boeing Company        Boeing Company   \n",
      "Information Technology        Alphabet Inc Class C  Alphabet Inc Class A   \n",
      "Materials                         Sherwin-Williams      Sherwin-Williams   \n",
      "Real Estate                     SBA Communications               Equinix   \n",
      "Telecommunication Services  Verizon Communications             AT&T Inc.   \n",
      "Utilities                           NextEra Energy        NextEra Energy   \n",
      "\n",
      "Year                                             5  \n",
      "Sector                                              \n",
      "Consumer Discretionary             Amazon.com Inc.  \n",
      "Consumer Staples              Constellation Brands  \n",
      "Energy                            Concho Resources  \n",
      "Financials                               BlackRock  \n",
      "Health Care                         Mettler Toledo  \n",
      "Industrials                 Northrop Grumman Corp.  \n",
      "Information Technology        Alphabet Inc Class A  \n",
      "Materials                         Sherwin-Williams  \n",
      "Real Estate                                Equinix  \n",
      "Telecommunication Services  Verizon Communications  \n",
      "Utilities                           NextEra Energy  \n"
     ]
    }
   ],
   "source": [
    "perf.reset_index()\n",
    "perf5 = ds_perf.loc[ds_perf.groupby([\"Sector\"], sort=False)['5year'].idxmax()].reset_index()\n",
    "perf5 = perf5[[\"Sector\", \"Symbol\"]]\n",
    "perf5[\"Year\"] = 5\n",
    "perf3 = ds_perf.loc[ds_perf.groupby([\"Sector\"], sort=False)['3year'].idxmax()].reset_index()\n",
    "perf3 = perf3[[\"Sector\", \"Symbol\"]]\n",
    "perf3[\"Year\"] = 3\n",
    "perf1 = ds_perf.loc[ds_perf.groupby([\"Sector\"], sort=False)['1year'].idxmax()].reset_index()\n",
    "perf1 = perf1[[\"Sector\", \"Symbol\"]]\n",
    "perf1[\"Year\"] = 1\n",
    "perf_best = pd.concat([perf1, perf3, perf5])\n",
    "\n",
    "perf_best = perf_best.merge(sp500, how=\"left\", left_on=\"Symbol\", right_on=\"Symbol\", suffixes=(\"\",\"_\"))\n",
    "perf_best = perf_best[[\"Sector\", \"Name\", \"Year\"]]\n",
    "perf_best = perf_best.pivot(index=\"Sector\", columns=\"Year\", values=\"Name\")\n",
    "print(perf_best)"
   ]
  },
  {
   "cell_type": "code",
   "execution_count": 25,
   "metadata": {},
   "outputs": [
    {
     "name": "stdout",
     "output_type": "stream",
     "text": [
      "Year                                                      1  \\\n",
      "Sector                                                        \n",
      "Consumer Discretionary               Chipotle Mexican Grill   \n",
      "Consumer Staples               Molson Coors Brewing Company   \n",
      "Energy                                       Cimarex Energy   \n",
      "Financials                                     MetLife Inc.   \n",
      "Health Care                                   Allergan, Plc   \n",
      "Industrials                               Acuity Brands Inc   \n",
      "Information Technology      International Business Machines   \n",
      "Materials                         Martin Marietta Materials   \n",
      "Real Estate                            Vornado Realty Trust   \n",
      "Telecommunication Services                  CenturyLink Inc   \n",
      "Utilities                                        SCANA Corp   \n",
      "\n",
      "Year                                                    3  \\\n",
      "Sector                                                      \n",
      "Consumer Discretionary             Chipotle Mexican Grill   \n",
      "Consumer Staples                               CVS Health   \n",
      "Energy                              Range Resources Corp.   \n",
      "Financials                  Affiliated Managers Group Inc   \n",
      "Health Care                                 Allergan, Plc   \n",
      "Industrials                                Stericycle Inc   \n",
      "Information Technology              Alliance Data Systems   \n",
      "Materials                              The Mosaic Company   \n",
      "Real Estate                          Vornado Realty Trust   \n",
      "Telecommunication Services                CenturyLink Inc   \n",
      "Utilities                                      SCANA Corp   \n",
      "\n",
      "Year                                                      5  \n",
      "Sector                                                       \n",
      "Consumer Discretionary              Polo Ralph Lauren Corp.  \n",
      "Consumer Staples                             Conagra Brands  \n",
      "Energy                                Range Resources Corp.  \n",
      "Financials                               Franklin Resources  \n",
      "Health Care                                         Perrigo  \n",
      "Industrials                                  Stericycle Inc  \n",
      "Information Technology      International Business Machines  \n",
      "Materials                                The Mosaic Company  \n",
      "Real Estate                                        HCP Inc.  \n",
      "Telecommunication Services                  CenturyLink Inc  \n",
      "Utilities                                        SCANA Corp  \n"
     ]
    }
   ],
   "source": [
    "perf.reset_index()\n",
    "perf5 = ds_perf.loc[ds_perf.groupby([\"Sector\"], sort=False)['5year'].idxmin()].reset_index()\n",
    "perf5 = perf5[[\"Sector\", \"Symbol\"]]\n",
    "perf5[\"Year\"] = 5\n",
    "perf3 = ds_perf.loc[ds_perf.groupby([\"Sector\"], sort=False)['3year'].idxmin()].reset_index()\n",
    "perf3 = perf3[[\"Sector\", \"Symbol\"]]\n",
    "perf3[\"Year\"] = 3\n",
    "perf1 = ds_perf.loc[ds_perf.groupby([\"Sector\"], sort=False)['1year'].idxmin()].reset_index()\n",
    "perf1 = perf1[[\"Sector\", \"Symbol\"]]\n",
    "perf1[\"Year\"] = 1\n",
    "perf_worst = pd.concat([perf1, perf3, perf5])\n",
    "\n",
    "perf_worst = perf_worst.merge(sp500, how=\"left\", left_on=\"Symbol\", right_on=\"Symbol\", suffixes=(\"\",\"_\"))\n",
    "perf_worst = perf_worst[[\"Sector\", \"Name\", \"Year\"]]\n",
    "perf_worst = perf_worst.pivot(index=\"Sector\", columns=\"Year\", values=\"Name\")\n",
    "print(perf_worst)"
   ]
  },
  {
   "cell_type": "code",
   "execution_count": null,
   "metadata": {},
   "outputs": [],
   "source": []
  }
 ],
 "metadata": {
  "kernelspec": {
   "display_name": "Python 3",
   "language": "python",
   "name": "python3"
  },
  "language_info": {
   "codemirror_mode": {
    "name": "ipython",
    "version": 3
   },
   "file_extension": ".py",
   "mimetype": "text/x-python",
   "name": "python",
   "nbconvert_exporter": "python",
   "pygments_lexer": "ipython3",
   "version": "3.7.2+"
  }
 },
 "nbformat": 4,
 "nbformat_minor": 2
}
